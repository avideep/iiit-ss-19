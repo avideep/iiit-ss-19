{
 "cells": [
  {
   "cell_type": "markdown",
   "metadata": {},
   "source": [
    "# ALL-IDB Classification using Autoencoder\n",
    "\n",
    "### Dataset used:- [ALL-IDB:Acute Lymphoblastic Leukemia Image Database for Image Processing](https://homes.di.unimi.it/scotti/all/)\n",
    "Follow the instructions provided in the linked website to download the dataset. After downloading, extract the files to the current directory (same folder as your codes). Note that ALL_IDB2 is used in this  tutorial."
   ]
  },
  {
   "cell_type": "code",
   "execution_count": 1,
   "metadata": {},
   "outputs": [],
   "source": [
    "%matplotlib inline\n",
    "import os\n",
    "import struct\n",
    "import torch\n",
    "from PIL import Image\n",
    "import matplotlib.pyplot as plt\n",
    "import numpy as np\n",
    "import torchvision\n",
    "from torch.autograd import Variable\n",
    "from torch.utils.data import TensorDataset,DataLoader\n",
    "import torch.nn as nn\n",
    "import torch.nn.functional as F\n",
    "import torch.optim as optim\n",
    "import copy\n",
    "import time"
   ]
  },
  {
   "cell_type": "markdown",
   "metadata": {},
   "source": [
    "### Load Data:"
   ]
  },
  {
   "cell_type": "code",
   "execution_count": 2,
   "metadata": {},
   "outputs": [],
   "source": [
    "Datapath = 'ALL_IDB2/img/'\n",
    "listing = os.listdir(Datapath) "
   ]
  },
  {
   "cell_type": "code",
   "execution_count": 3,
   "metadata": {},
   "outputs": [],
   "source": [
    "# ALL_IDB2 dataset has 260 images in total\n",
    "TrainImages = torch.FloatTensor(200,3072)\n",
    "TrainLabels = torch.LongTensor(200)\n",
    "TestImages = torch.FloatTensor(60,3072)\n",
    "TestLabels = torch.LongTensor(60)\n",
    "\n",
    "# First 200 images are used for training and the remaining 60 for testing\n",
    "img_no = 0\n",
    "for file in listing:\n",
    "    im=Image.open(Datapath + file)\n",
    "    im = im.resize((32,32))\n",
    "    im = np.array(im)\n",
    "    im = np.reshape(im, 32*32*3)\n",
    "    if img_no < 200:\n",
    "        TrainImages[img_no] = torch.from_numpy(im)\n",
    "        TrainLabels[img_no] = int(listing[img_no][6:7])\n",
    "    else:\n",
    "        TestImages[img_no - 200] = torch.from_numpy(im)\n",
    "        TestLabels[img_no - 200] = int(listing[img_no][6:7])\n",
    "    img_no = img_no + 1"
   ]
  },
  {
   "cell_type": "code",
   "execution_count": 4,
   "metadata": {},
   "outputs": [
    {
     "name": "stdout",
     "output_type": "stream",
     "text": [
      "torch.Size([200, 3072])\n",
      "torch.Size([200])\n",
      "torch.Size([60, 3072])\n",
      "torch.Size([60])\n"
     ]
    }
   ],
   "source": [
    "print(TrainImages.size())\n",
    "print(TrainLabels.size())\n",
    "print(TestImages.size())\n",
    "print(TestLabels.size())"
   ]
  },
  {
   "cell_type": "code",
   "execution_count": 5,
   "metadata": {},
   "outputs": [],
   "source": [
    "# Creating pytorch dataset from the feature matices\n",
    "trainDataset = TensorDataset(TrainImages, TrainLabels)\n",
    "testDataset = TensorDataset(TestImages, TestLabels)\n",
    "# Creating dataloader\n",
    "BatchSize = 64\n",
    "trainLoader = DataLoader(trainDataset, batch_size=BatchSize, shuffle=True,num_workers=4, pin_memory=True)\n",
    "testLoader = DataLoader(testDataset, batch_size=BatchSize, shuffle=True,num_workers=4, pin_memory=True)"
   ]
  },
  {
   "cell_type": "code",
   "execution_count": 6,
   "metadata": {},
   "outputs": [
    {
     "name": "stdout",
     "output_type": "stream",
     "text": [
      "GPU is available!\n"
     ]
    }
   ],
   "source": [
    "# Check availability of GPU\n",
    "use_gpu = torch.cuda.is_available()\n",
    "if use_gpu:\n",
    "    print('GPU is available!')"
   ]
  },
  {
   "cell_type": "markdown",
   "metadata": {},
   "source": [
    "### Define the Autoencoder class"
   ]
  },
  {
   "cell_type": "code",
   "execution_count": 7,
   "metadata": {},
   "outputs": [],
   "source": [
    "class autoencoder(nn.Module):\n",
    "    def __init__(self):\n",
    "        super(autoencoder, self).__init__()\n",
    "        self.encoder = nn.Sequential(\n",
    "            nn.Linear(32*32*3, 1000),\n",
    "            nn.ReLU(),\n",
    "            nn.Linear(1000, 500),\n",
    "            nn.ReLU(),\n",
    "            nn.Linear(500, 100),\n",
    "            nn.ReLU())\n",
    "        self.decoder = nn.Sequential(\n",
    "            nn.Linear(100, 500),\n",
    "            nn.ReLU(),\n",
    "            nn.Linear(500, 1000),\n",
    "            nn.ReLU(),\n",
    "            nn.Linear(1000, 32*32*3),\n",
    "            nn.ReLU())\n",
    "\n",
    "    def forward(self, x):\n",
    "        x = self.encoder(x)\n",
    "        x = self.decoder(x)\n",
    "        return x"
   ]
  },
  {
   "cell_type": "markdown",
   "metadata": {},
   "source": [
    "### Initialize the network"
   ]
  },
  {
   "cell_type": "code",
   "execution_count": 8,
   "metadata": {},
   "outputs": [
    {
     "name": "stdout",
     "output_type": "stream",
     "text": [
      "autoencoder(\n",
      "  (encoder): Sequential(\n",
      "    (0): Linear(in_features=3072, out_features=1000, bias=True)\n",
      "    (1): ReLU()\n",
      "    (2): Linear(in_features=1000, out_features=500, bias=True)\n",
      "    (3): ReLU()\n",
      "    (4): Linear(in_features=500, out_features=100, bias=True)\n",
      "    (5): ReLU()\n",
      "  )\n",
      "  (decoder): Sequential(\n",
      "    (0): Linear(in_features=100, out_features=500, bias=True)\n",
      "    (1): ReLU()\n",
      "    (2): Linear(in_features=500, out_features=1000, bias=True)\n",
      "    (3): ReLU()\n",
      "    (4): Linear(in_features=1000, out_features=3072, bias=True)\n",
      "    (5): ReLU()\n",
      "  )\n",
      ")\n"
     ]
    }
   ],
   "source": [
    "net = autoencoder()\n",
    "print(net)\n",
    "\n",
    "if use_gpu:\n",
    "    net = net.cuda()"
   ]
  },
  {
   "cell_type": "markdown",
   "metadata": {},
   "source": [
    "### Define optimization technique:"
   ]
  },
  {
   "cell_type": "code",
   "execution_count": 9,
   "metadata": {},
   "outputs": [],
   "source": [
    "criterion = nn.MSELoss() # Mean Squared Error \n",
    "optimizer = optim.SGD(net.parameters(), lr=0.5, momentum=0.9) # Stochastic Gradient Descent"
   ]
  },
  {
   "cell_type": "markdown",
   "metadata": {},
   "source": [
    "### Training the autoencoder for representaion learning"
   ]
  },
  {
   "cell_type": "code",
   "execution_count": 10,
   "metadata": {
    "scrolled": true
   },
   "outputs": [
    {
     "name": "stdout",
     "output_type": "stream",
     "text": [
      "At Iteration : 1 / 20  ;  Mean-Squared Error : 0.343822\n",
      "At Iteration : 2 / 20  ;  Mean-Squared Error : 0.347236\n",
      "At Iteration : 3 / 20  ;  Mean-Squared Error : 0.345171\n",
      "At Iteration : 4 / 20  ;  Mean-Squared Error : 0.293223\n",
      "At Iteration : 5 / 20  ;  Mean-Squared Error : 0.188486\n",
      "At Iteration : 6 / 20  ;  Mean-Squared Error : 0.163135\n",
      "At Iteration : 7 / 20  ;  Mean-Squared Error : 0.145345\n",
      "At Iteration : 8 / 20  ;  Mean-Squared Error : 0.131298\n",
      "At Iteration : 9 / 20  ;  Mean-Squared Error : 0.123614\n",
      "At Iteration : 10 / 20  ;  Mean-Squared Error : 0.119126\n",
      "At Iteration : 11 / 20  ;  Mean-Squared Error : 0.118259\n",
      "At Iteration : 12 / 20  ;  Mean-Squared Error : 0.117362\n",
      "At Iteration : 13 / 20  ;  Mean-Squared Error : 0.111091\n",
      "At Iteration : 14 / 20  ;  Mean-Squared Error : 0.111353\n",
      "At Iteration : 15 / 20  ;  Mean-Squared Error : 0.112449\n",
      "At Iteration : 16 / 20  ;  Mean-Squared Error : 0.109730\n",
      "At Iteration : 17 / 20  ;  Mean-Squared Error : 0.108979\n",
      "At Iteration : 18 / 20  ;  Mean-Squared Error : 0.110384\n",
      "At Iteration : 19 / 20  ;  Mean-Squared Error : 0.109943\n",
      "At Iteration : 20 / 20  ;  Mean-Squared Error : 0.111533\n"
     ]
    }
   ],
   "source": [
    "iterations = 20\n",
    "for epoch in range(iterations):   \n",
    "    net.train(True) # For training\n",
    "    runningLoss = 0\n",
    "    for data in trainLoader:\n",
    "        inputs,_  = data # Labels are not required \n",
    "        inputs = inputs/255\n",
    "        if use_gpu:\n",
    "            inputs = Variable(inputs).cuda()\n",
    "        else:\n",
    "            inputs = Variable(inputs)\n",
    "        # Initialize the gradients to zero\n",
    "        optimizer.zero_grad()\n",
    "        # Feed forward the input data through the network\n",
    "        outputs = net(inputs)\n",
    "        # Compute the error/loss\n",
    "        loss = criterion(outputs, inputs)\n",
    "        # Backpropagate the loss to compute gradients\n",
    "        loss.backward()\n",
    "        # Update model parameters\n",
    "        optimizer.step()\n",
    "        # Accumulate loss per batch\n",
    "        runningLoss += loss.item()\n",
    "    # Printing average loss per epoch\n",
    "    print('At Iteration : %d / %d  ;  Mean-Squared Error : %f'%(epoch + 1,iterations,runningLoss/\n",
    "                                                                (TrainImages.size()[0]/BatchSize)))"
   ]
  },
  {
   "cell_type": "markdown",
   "metadata": {},
   "source": [
    "### Modifying the autoencoder for classification"
   ]
  },
  {
   "cell_type": "code",
   "execution_count": 11,
   "metadata": {},
   "outputs": [
    {
     "name": "stdout",
     "output_type": "stream",
     "text": [
      "Sequential(\n",
      "  (0): Sequential(\n",
      "    (0): Linear(in_features=3072, out_features=1000, bias=True)\n",
      "    (1): ReLU()\n",
      "    (2): Linear(in_features=1000, out_features=500, bias=True)\n",
      "    (3): ReLU()\n",
      "    (4): Linear(in_features=500, out_features=100, bias=True)\n",
      "    (5): ReLU()\n",
      "  )\n",
      "  (classifier): Sequential(\n",
      "    (0): Linear(in_features=100, out_features=2, bias=True)\n",
      "    (1): LogSoftmax()\n",
      "  )\n",
      ")\n"
     ]
    }
   ],
   "source": [
    "# Removing the decoder module from the autoencoder\n",
    "new_classifier = nn.Sequential(*list(net.children())[:-1])\n",
    "net = new_classifier\n",
    "# Adding linear layer for 2-class classification problem\n",
    "net.add_module('classifier', nn.Sequential(nn.Linear(100, 2),nn.LogSoftmax()))\n",
    "print(net)\n",
    "if use_gpu:\n",
    "    net = net.cuda()\n",
    "# Copying initial weights  for visualization\n",
    "cll_weights = copy.deepcopy(net[0][0].weight.data)\n",
    "init_classifier_weights = copy.deepcopy(net.classifier[0].weight.data)"
   ]
  },
  {
   "cell_type": "markdown",
   "metadata": {},
   "source": [
    "### Define loss function and optimizer: "
   ]
  },
  {
   "cell_type": "code",
   "execution_count": 12,
   "metadata": {},
   "outputs": [],
   "source": [
    "criterion = nn.NLLLoss() # Negative Log-Likelihood\n",
    "optimizer = optim.SGD(net.parameters(), lr=1e-3, momentum=0.9) # Stochastic gradient descent"
   ]
  },
  {
   "cell_type": "markdown",
   "metadata": {},
   "source": [
    "## Train the network"
   ]
  },
  {
   "cell_type": "code",
   "execution_count": 13,
   "metadata": {
    "scrolled": true
   },
   "outputs": [
    {
     "name": "stdout",
     "output_type": "stream",
     "text": [
      "At Iteration: 1 /50  ;  Training Loss: 0.018258 ; Testing Acc: 50.000 ; Time consumed: 0m 0s \n"
     ]
    },
    {
     "name": "stderr",
     "output_type": "stream",
     "text": [
      "/home/bijju/.conda/envs/py37/lib/python3.7/site-packages/torch/nn/modules/container.py:92: UserWarning: Implicit dimension choice for log_softmax has been deprecated. Change the call to include dim=X as an argument.\n",
      "  input = module(input)\n"
     ]
    },
    {
     "name": "stdout",
     "output_type": "stream",
     "text": [
      "At Iteration: 2 /50  ;  Training Loss: 0.015496 ; Testing Acc: 50.000 ; Time consumed: 0m 0s \n",
      "At Iteration: 3 /50  ;  Training Loss: 0.013911 ; Testing Acc: 50.000 ; Time consumed: 0m 0s \n",
      "At Iteration: 4 /50  ;  Training Loss: 0.014262 ; Testing Acc: 50.000 ; Time consumed: 0m 0s \n",
      "At Iteration: 5 /50  ;  Training Loss: 0.014289 ; Testing Acc: 50.000 ; Time consumed: 0m 0s \n",
      "At Iteration: 6 /50  ;  Training Loss: 0.014445 ; Testing Acc: 50.000 ; Time consumed: 0m 0s \n",
      "At Iteration: 7 /50  ;  Training Loss: 0.014163 ; Testing Acc: 50.000 ; Time consumed: 0m 0s \n",
      "At Iteration: 8 /50  ;  Training Loss: 0.013778 ; Testing Acc: 50.000 ; Time consumed: 0m 0s \n",
      "At Iteration: 9 /50  ;  Training Loss: 0.014051 ; Testing Acc: 50.000 ; Time consumed: 0m 0s \n",
      "At Iteration: 10 /50  ;  Training Loss: 0.014220 ; Testing Acc: 50.000 ; Time consumed: 0m 0s \n",
      "At Iteration: 11 /50  ;  Training Loss: 0.014048 ; Testing Acc: 50.000 ; Time consumed: 0m 0s \n",
      "At Iteration: 12 /50  ;  Training Loss: 0.013933 ; Testing Acc: 50.000 ; Time consumed: 0m 0s \n",
      "At Iteration: 13 /50  ;  Training Loss: 0.013832 ; Testing Acc: 50.000 ; Time consumed: 0m 0s \n",
      "At Iteration: 14 /50  ;  Training Loss: 0.014084 ; Testing Acc: 50.000 ; Time consumed: 0m 0s \n",
      "At Iteration: 15 /50  ;  Training Loss: 0.013850 ; Testing Acc: 50.000 ; Time consumed: 0m 0s \n",
      "At Iteration: 16 /50  ;  Training Loss: 0.013877 ; Testing Acc: 50.000 ; Time consumed: 0m 0s \n",
      "At Iteration: 17 /50  ;  Training Loss: 0.013846 ; Testing Acc: 50.000 ; Time consumed: 0m 0s \n",
      "At Iteration: 18 /50  ;  Training Loss: 0.013792 ; Testing Acc: 50.000 ; Time consumed: 0m 0s \n",
      "At Iteration: 19 /50  ;  Training Loss: 0.013965 ; Testing Acc: 50.000 ; Time consumed: 0m 0s \n",
      "At Iteration: 20 /50  ;  Training Loss: 0.013809 ; Testing Acc: 50.000 ; Time consumed: 0m 0s \n",
      "At Iteration: 21 /50  ;  Training Loss: 0.013876 ; Testing Acc: 50.000 ; Time consumed: 0m 0s \n",
      "At Iteration: 22 /50  ;  Training Loss: 0.013829 ; Testing Acc: 61.667 ; Time consumed: 0m 0s \n",
      "At Iteration: 23 /50  ;  Training Loss: 0.013838 ; Testing Acc: 65.000 ; Time consumed: 0m 0s \n",
      "At Iteration: 24 /50  ;  Training Loss: 0.013798 ; Testing Acc: 50.000 ; Time consumed: 0m 0s \n",
      "At Iteration: 25 /50  ;  Training Loss: 0.013870 ; Testing Acc: 50.000 ; Time consumed: 0m 0s \n",
      "At Iteration: 26 /50  ;  Training Loss: 0.013706 ; Testing Acc: 50.000 ; Time consumed: 0m 0s \n",
      "At Iteration: 27 /50  ;  Training Loss: 0.013981 ; Testing Acc: 50.000 ; Time consumed: 0m 0s \n",
      "At Iteration: 28 /50  ;  Training Loss: 0.013785 ; Testing Acc: 50.000 ; Time consumed: 0m 0s \n",
      "At Iteration: 29 /50  ;  Training Loss: 0.013839 ; Testing Acc: 50.000 ; Time consumed: 0m 0s \n",
      "At Iteration: 30 /50  ;  Training Loss: 0.013792 ; Testing Acc: 50.000 ; Time consumed: 0m 0s \n",
      "At Iteration: 31 /50  ;  Training Loss: 0.013820 ; Testing Acc: 50.000 ; Time consumed: 0m 0s \n",
      "At Iteration: 32 /50  ;  Training Loss: 0.013935 ; Testing Acc: 50.000 ; Time consumed: 0m 0s \n",
      "At Iteration: 33 /50  ;  Training Loss: 0.013799 ; Testing Acc: 50.000 ; Time consumed: 0m 0s \n",
      "At Iteration: 34 /50  ;  Training Loss: 0.013789 ; Testing Acc: 50.000 ; Time consumed: 0m 0s \n",
      "At Iteration: 35 /50  ;  Training Loss: 0.013878 ; Testing Acc: 50.000 ; Time consumed: 0m 0s \n",
      "At Iteration: 36 /50  ;  Training Loss: 0.013980 ; Testing Acc: 50.000 ; Time consumed: 0m 0s \n",
      "At Iteration: 37 /50  ;  Training Loss: 0.013803 ; Testing Acc: 50.000 ; Time consumed: 0m 0s \n",
      "At Iteration: 38 /50  ;  Training Loss: 0.013865 ; Testing Acc: 50.000 ; Time consumed: 0m 0s \n",
      "At Iteration: 39 /50  ;  Training Loss: 0.013877 ; Testing Acc: 50.000 ; Time consumed: 0m 0s \n",
      "At Iteration: 40 /50  ;  Training Loss: 0.013811 ; Testing Acc: 50.000 ; Time consumed: 0m 0s \n",
      "At Iteration: 41 /50  ;  Training Loss: 0.013822 ; Testing Acc: 50.000 ; Time consumed: 0m 0s \n",
      "At Iteration: 42 /50  ;  Training Loss: 0.013790 ; Testing Acc: 50.000 ; Time consumed: 0m 0s \n",
      "At Iteration: 43 /50  ;  Training Loss: 0.013810 ; Testing Acc: 50.000 ; Time consumed: 0m 0s \n",
      "At Iteration: 44 /50  ;  Training Loss: 0.013795 ; Testing Acc: 66.667 ; Time consumed: 0m 0s \n",
      "At Iteration: 45 /50  ;  Training Loss: 0.013791 ; Testing Acc: 51.667 ; Time consumed: 0m 0s \n",
      "At Iteration: 46 /50  ;  Training Loss: 0.013804 ; Testing Acc: 50.000 ; Time consumed: 0m 0s \n",
      "At Iteration: 47 /50  ;  Training Loss: 0.013794 ; Testing Acc: 50.000 ; Time consumed: 0m 0s \n",
      "At Iteration: 48 /50  ;  Training Loss: 0.013721 ; Testing Acc: 50.000 ; Time consumed: 0m 0s \n",
      "At Iteration: 49 /50  ;  Training Loss: 0.013796 ; Testing Acc: 50.000 ; Time consumed: 0m 0s \n",
      "At Iteration: 50 /50  ;  Training Loss: 0.013726 ; Testing Acc: 50.000 ; Time consumed: 0m 0s \n",
      "Training completed in 0m 12s\n"
     ]
    },
    {
     "data": {
      "image/png": "[encoded data removed]",
      "text/plain": [
       "<Figure size 432x288 with 1 Axes>"
      ]
     },
     "metadata": {
      "needs_background": "light"
     },
     "output_type": "display_data"
    },
    {
     "data": {
      "image/png": "[encoded data removed]",
      "text/plain": [
       "<Figure size 432x288 with 1 Axes>"
      ]
     },
     "metadata": {
      "needs_background": "light"
     },
     "output_type": "display_data"
    }
   ],
   "source": [
    "iterations = 50\n",
    "trainLoss = []\n",
    "testAcc = []\n",
    "start = time.time()\n",
    "for epoch in range(iterations):\n",
    "    epochStart = time.time()\n",
    "    runningLoss = 0\n",
    "    for data in trainLoader:\n",
    "        inputs,labels = data\n",
    "        inputs = inputs/255\n",
    "        if use_gpu:\n",
    "            inputs, labels = Variable(inputs.cuda()), Variable(labels.cuda())\n",
    "        else:\n",
    "            inputs, labels = Variable(inputs), Variable(labels)\n",
    "        # Initialize gradients to zero\n",
    "        optimizer.zero_grad()\n",
    "        # Feed-forward input data through the network\n",
    "        outputs = net(inputs)\n",
    "        # Compute loss/error\n",
    "        loss = criterion(outputs, labels)\n",
    "        # Backpropagate loss and compute gradients\n",
    "        loss.backward()\n",
    "        # Update the network parameters\n",
    "        optimizer.step()\n",
    "        # Accumulate loss per batch\n",
    "        runningLoss += loss.item()\n",
    "    avgTrainLoss = runningLoss/200\n",
    "    trainLoss.append(avgTrainLoss)\n",
    "    \n",
    "    \n",
    "    # Evaluating performance on test set for each epoch\n",
    "    net.train(False) # For testing\n",
    "    inputs = TestImages/255\n",
    "    if use_gpu:\n",
    "        inputs = Variable(inputs.cuda())\n",
    "        outputs = net(inputs)\n",
    "\n",
    "        _, predicted = torch.max(outputs.data, dim=1)\n",
    "        predicted = predicted.cpu()\n",
    "    else:\n",
    "        inputs = Variable(inputs)\n",
    "        outputs = net(inputs)\n",
    "        _, predicted = torch.max(outputs.data, dim=1)\n",
    "    correct = 0\n",
    "    total = 0\n",
    "    total += TestLabels.size(0)\n",
    "    correct += (predicted == TestLabels).sum()\n",
    "    correct = correct.numpy()\n",
    "    avgTestAcc = correct/60.0\n",
    "    testAcc.append(avgTestAcc)\n",
    "    \n",
    "    # Plotting training loss vs Epochs\n",
    "    fig1 = plt.figure(1)        \n",
    "    plt.plot(range(epoch+1),trainLoss,'r-',label='train')        \n",
    "    if epoch==0:\n",
    "        plt.legend(loc='upper left')\n",
    "        plt.xlabel('Epochs')\n",
    "        plt.ylabel('Training loss')   \n",
    "    # Plotting testing accuracy vs Epochs\n",
    "    fig2 = plt.figure(2)        \n",
    "    plt.plot(range(epoch+1),testAcc,'g-',label='test')        \n",
    "    if epoch==0:\n",
    "        plt.legend(loc='upper left')\n",
    "        plt.xlabel('Epochs')\n",
    "        plt.ylabel('Testing accuracy')    \n",
    "    \n",
    "    epochEnd = time.time()-epochStart\n",
    "    print('At Iteration: {:.0f} /{:.0f}  ;  Training Loss: {:.6f} ; Testing Acc: {:.3f} ; Time consumed: {:.0f}m {:.0f}s '\\\n",
    "          .format(epoch + 1,iterations,avgTrainLoss,avgTestAcc*100,epochEnd//60,epochEnd%60))\n",
    "end = time.time()-start\n",
    "print('Training completed in {:.0f}m {:.0f}s'.format(end//60,end%60))"
   ]
  },
  {
   "cell_type": "code",
   "execution_count": null,
   "metadata": {},
   "outputs": [],
   "source": []
  }
 ],
 "metadata": {
  "kernelspec": {
   "display_name": "Python 3",
   "language": "python",
   "name": "python3"
  },
  "language_info": {
   "codemirror_mode": {
    "name": "ipython",
    "version": 3
   },
   "file_extension": ".py",
   "mimetype": "text/x-python",
   "name": "python",
   "nbconvert_exporter": "python",
   "pygments_lexer": "ipython3",
   "version": "3.7.3"
  }
 },
 "nbformat": 4,
 "nbformat_minor": 2
}
