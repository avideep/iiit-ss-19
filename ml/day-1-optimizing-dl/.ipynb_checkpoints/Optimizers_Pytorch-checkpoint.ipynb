{
 "cells": [
  {
   "cell_type": "markdown",
   "metadata": {
    "colab_type": "text",
    "id": "YJ5oWpaZj-gg"
   },
   "source": [
    "# Optimizers\n",
    "\n",
    "During the training process, the weights (model parameters) of our model change such that it minimizes the loss function, and make our predictions as correct as possible. But how exactly do you do that? How do you change the parameters of your model, by how much, and when?\n",
    "\n",
    "This is where optimizers come in. They tie together the loss function and model parameters by updating the model in response to the output of the loss function. In simpler terms, optimizers shape and mold your model into its most accurate possible form by futzing with the weights. The loss function is the guide to the terrain, telling the optimizer when it’s moving in the right or wrong direction."
   ]
  },
  {
   "cell_type": "markdown",
   "metadata": {
    "colab_type": "text",
    "id": "DJEVd_5Lj-gh"
   },
   "source": [
    "In this tutorial, we shall explore various optimizers and their performance on a simple classification task on CIFAR10 dataset"
   ]
  },
  {
   "cell_type": "code",
   "execution_count": 1,
   "metadata": {
    "colab": {
     "base_uri": "https://localhost:8080/",
     "height": 34
    },
    "colab_type": "code",
    "id": "11-0srasj-gi",
    "outputId": "facb8196-f003-449b-89f9-98296a74ee38"
   },
   "outputs": [
    {
     "name": "stdout",
     "output_type": "stream",
     "text": [
      "cuda:0\n"
     ]
    }
   ],
   "source": [
    "# Basic imports\n",
    "\n",
    "import numpy as np\n",
    "import matplotlib.pyplot as plt\n",
    "\n",
    "\n",
    "import torch\n",
    "import torch.nn as nn\n",
    "import torch.nn.functional as F\n",
    "import torchvision\n",
    "import torchvision.transforms as transforms\n",
    "import torch.optim as optim\n",
    "\n",
    "\n",
    "device = torch.device(\"cuda:0\" if torch.cuda.is_available() else \"cpu\")\n",
    "\n",
    "# Assuming that we are on a CUDA machine, this should print a CUDA device:\n",
    "\n",
    "print(device)\n",
    "\n"
   ]
  },
  {
   "cell_type": "markdown",
   "metadata": {
    "colab_type": "text",
    "id": "N6MhgRcJ-qCy"
   },
   "source": [
    "### Dataloader\n",
    "For efficient training, we need to make sure that our code is efficient enough to send data from RAM to GPU and vice-versa. \n",
    "For some standard datasets like MNIST, CIFAR-10 etc., we already have some well structured dataloaders. In this tutorial, we will be using the CIFAR-10 dataloader.\n",
    "\n",
    "For more you can visit the following links:\n",
    "- Existing dataloaders - https://pytorch.org/docs/stable/data.html_\n",
    "- How to write dataloaders for your custom dataset - https://pytorch.org/tutorials/beginner/data_loading_tutorial.html_"
   ]
  },
  {
   "cell_type": "code",
   "execution_count": null,
   "metadata": {
    "colab": {
     "base_uri": "https://localhost:8080/",
     "height": 68
    },
    "colab_type": "code",
    "id": "VmKIr21Pj-gk",
    "outputId": "ff9a4ab5-53e7-4495-e219-48ab13140e1e"
   },
   "outputs": [
    {
     "name": "stdout",
     "output_type": "stream",
     "text": [
      "Downloading https://www.cs.toronto.edu/~kriz/cifar-10-python.tar.gz to ./data/cifar-10-python.tar.gz\n"
     ]
    }
   ],
   "source": [
    "transform = transforms.Compose(\n",
    "    [transforms.ToTensor(),\n",
    "     transforms.Normalize((0.5, 0.5, 0.5), (0.5, 0.5, 0.5))])\n",
    "\n",
    "trainset = torchvision.datasets.CIFAR10(root='./data', train=True,\n",
    "                                        download=True, transform=transform)\n",
    "trainloader = torch.utils.data.DataLoader(trainset, batch_size=4,\n",
    "                                          shuffle=True, num_workers=2)\n",
    "\n",
    "testset = torchvision.datasets.CIFAR10(root='./data', train=False,\n",
    "                                       download=True, transform=transform)\n",
    "testloader = torch.utils.data.DataLoader(testset, batch_size=4,\n",
    "                                         shuffle=False, num_workers=2)\n",
    "\n",
    "classes = ('plane', 'car', 'bird', 'cat',\n",
    "           'deer', 'dog', 'frog', 'horse', 'ship', 'truck')"
   ]
  },
  {
   "cell_type": "markdown",
   "metadata": {
    "colab_type": "text",
    "id": "6Bku4hvA-wk6"
   },
   "source": [
    " Let us show some of the training images, for fun."
   ]
  },
  {
   "cell_type": "code",
   "execution_count": 0,
   "metadata": {
    "colab": {},
    "colab_type": "code",
    "id": "nzij-nihj-go"
   },
   "outputs": [],
   "source": [
    "def imshow(img):\n",
    "    img = img / 2 + 0.5     # unnormalize\n",
    "    npimg = img.numpy()\n",
    "    plt.imshow(np.transpose(npimg, (1, 2, 0)))\n",
    "    plt.show()"
   ]
  },
  {
   "cell_type": "code",
   "execution_count": 0,
   "metadata": {
    "colab": {
     "base_uri": "https://localhost:8080/",
     "height": 156
    },
    "colab_type": "code",
    "id": "Icq4JE22j-gq",
    "outputId": "cc1ffb8e-5f3c-4563-818e-e2ee3aa494da"
   },
   "outputs": [
    {
     "data": {
      "image/png": "[encoded data removed]",
      "text/plain": [
       "<Figure size 432x288 with 1 Axes>"
      ]
     },
     "metadata": {
      "tags": []
     },
     "output_type": "display_data"
    },
    {
     "name": "stdout",
     "output_type": "stream",
     "text": [
      "  dog   cat plane  ship\n"
     ]
    }
   ],
   "source": [
    "dataiter = iter(trainloader)\n",
    "images, labels = dataiter.next()\n",
    "\n",
    "# show images\n",
    "imshow(torchvision.utils.make_grid(images))\n",
    "# print labels\n",
    "print(' '.join('%5s' % classes[labels[j]] for j in range(4)))"
   ]
  },
  {
   "cell_type": "markdown",
   "metadata": {
    "colab_type": "text",
    "id": "okxRBmN1-04d"
   },
   "source": [
    "###  Define a Convolutional Neural Network"
   ]
  },
  {
   "cell_type": "code",
   "execution_count": 0,
   "metadata": {
    "colab": {},
    "colab_type": "code",
    "id": "8b6LrR0Lj-gt"
   },
   "outputs": [],
   "source": [
    "# Model definition:\n",
    "\n",
    "class Net(nn.Module):\n",
    "    def __init__(self):\n",
    "        super(Net, self).__init__()\n",
    "        self.conv1 = nn.Conv2d(3, 6, 5)\n",
    "        self.pool = nn.MaxPool2d(2, 2)\n",
    "        self.conv2 = nn.Conv2d(6, 16, 5)\n",
    "        self.fc1 = nn.Linear(16 * 5 * 5, 120)\n",
    "        self.fc2 = nn.Linear(120, 84)\n",
    "        self.fc3 = nn.Linear(84, 10)\n",
    "\n",
    "    def forward(self, x):\n",
    "        x = self.pool(F.relu(self.conv1(x)))\n",
    "        x = self.pool(F.relu(self.conv2(x)))\n",
    "        x = x.view(-1, 16 * 5 * 5)\n",
    "        x = F.relu(self.fc1(x))\n",
    "        x = F.relu(self.fc2(x))\n",
    "        x = self.fc3(x)\n",
    "        return x\n",
    "\n",
    "net = Net().to(device)"
   ]
  },
  {
   "cell_type": "markdown",
   "metadata": {
    "colab_type": "text",
    "id": "buGQJYa0-5tK"
   },
   "source": [
    "### Define the loss function (cross-entropy loss)\n",
    "\n",
    "$$\\mathcal{L}(\\hat{y}, y) = - \\sum_{i = 1}^{N} y_i log \\hat{y}_i$$"
   ]
  },
  {
   "cell_type": "code",
   "execution_count": 0,
   "metadata": {
    "colab": {},
    "colab_type": "code",
    "id": "9h6Er0ZPj-gw"
   },
   "outputs": [],
   "source": [
    "\n",
    "# We use Cross Entropy as our loss function in this classfication task\n",
    "criterion = nn.CrossEntropyLoss()"
   ]
  },
  {
   "cell_type": "markdown",
   "metadata": {
    "colab_type": "text",
    "id": "ucm_4Gv8_9vQ"
   },
   "source": [
    "### The train loop"
   ]
  },
  {
   "cell_type": "code",
   "execution_count": 0,
   "metadata": {
    "colab": {},
    "colab_type": "code",
    "id": "iM3pyuAtj-gy"
   },
   "outputs": [],
   "source": [
    "def train():\n",
    "    \n",
    "    loss_values = []\n",
    "    for epoch in range(10):  # loop over the dataset multiple times\n",
    "\n",
    "        running_loss = 0.0\n",
    "        for i, data in enumerate(trainloader, 0):\n",
    "            # get the inputs; data is a list of [inputs, labels]\n",
    "            inputs, labels = data[0].to(device), data[1].to(device)\n",
    "\n",
    "            # zero the parameter gradients\n",
    "            optimizer.zero_grad()\n",
    "\n",
    "            # forward + backward + optimize\n",
    "            outputs = net(inputs)\n",
    "            loss = criterion(outputs, labels)\n",
    "            loss.backward()\n",
    "            optimizer.step()\n",
    "\n",
    "            # print statistics\n",
    "            running_loss += loss.item()\n",
    "            \n",
    "            if i % 2000 == 1999:    # print every 2000 mini-batches\n",
    "                print('[%d, %5d] loss: %.3f' %\n",
    "                      (epoch + 1, i + 1, running_loss / 2000))\n",
    "                running_loss = 0.0\n",
    "                \n",
    "            \n",
    "        loss_values.append(running_loss / len(trainloader))\n",
    "       \n",
    "    #plt.plot(loss_values)\n",
    "    correct = 0\n",
    "    total = 0\n",
    "    with torch.no_grad():\n",
    "        for data in testloader:\n",
    "            images, labels = data[0].to(device), data[1].to(device)\n",
    "            outputs = net(images)\n",
    "            _, predicted = torch.max(outputs.data, 1)\n",
    "            total += labels.size(0)\n",
    "            correct += (predicted == labels).sum().item()\n",
    "\n",
    "    print('Accuracy of the network on the 10000 test images: %d %%' % (\n",
    "        100 * correct / total))\n",
    "    return loss_values\n",
    "\n",
    "    \n",
    "    "
   ]
  },
  {
   "cell_type": "markdown",
   "metadata": {
    "colab_type": "text",
    "id": "EL_dBevMj-g0"
   },
   "source": [
    "## SGD without momentum"
   ]
  },
  {
   "cell_type": "markdown",
   "metadata": {
    "colab_type": "text",
    "id": "rAH-RIvEj-g0"
   },
   "source": [
    "Stochastic gradient descent (SGD) in contrast performs a parameter update for each training example x<sup>(i)</sup> and label y<sup>(i)</sup> as follows:\n",
    "![image.png](attachment:image.png)\n",
    "\n",
    "Hence it is usually faster and can be used to learn online\n"
   ]
  },
  {
   "cell_type": "code",
   "execution_count": 0,
   "metadata": {
    "colab": {
     "base_uri": "https://localhost:8080/",
     "height": 1000
    },
    "colab_type": "code",
    "id": "jvG5BqCoj-g1",
    "outputId": "7473fea9-3f06-4039-9e9c-052232cff0e1",
    "scrolled": true
   },
   "outputs": [
    {
     "name": "stdout",
     "output_type": "stream",
     "text": [
      "[1,  2000] loss: 2.011\n",
      "[1,  4000] loss: 2.004\n",
      "[1,  6000] loss: 1.994\n",
      "[1,  8000] loss: 1.994\n",
      "[1, 10000] loss: 1.981\n",
      "[1, 12000] loss: 1.996\n",
      "[2,  2000] loss: 1.984\n",
      "[2,  4000] loss: 1.973\n",
      "[2,  6000] loss: 1.986\n",
      "[2,  8000] loss: 1.994\n",
      "[2, 10000] loss: 1.990\n",
      "[2, 12000] loss: 1.966\n",
      "[3,  2000] loss: 1.986\n",
      "[3,  4000] loss: 1.993\n",
      "[3,  6000] loss: 1.967\n",
      "[3,  8000] loss: 1.961\n",
      "[3, 10000] loss: 1.969\n",
      "[3, 12000] loss: 1.959\n",
      "[4,  2000] loss: 1.961\n",
      "[4,  4000] loss: 1.963\n",
      "[4,  6000] loss: 1.972\n",
      "[4,  8000] loss: 1.960\n",
      "[4, 10000] loss: 1.965\n",
      "[4, 12000] loss: 1.957\n",
      "[5,  2000] loss: 1.959\n",
      "[5,  4000] loss: 1.963\n",
      "[5,  6000] loss: 1.958\n",
      "[5,  8000] loss: 1.962\n",
      "[5, 10000] loss: 1.955\n",
      "[5, 12000] loss: 1.952\n",
      "[6,  4000] loss: 1.960\n",
      "[6,  6000] loss: 1.947\n",
      "[6,  8000] loss: 1.953\n",
      "[6, 10000] loss: 1.957\n",
      "[6, 12000] loss: 1.947\n",
      "[7,  2000] loss: 1.950\n",
      "[7,  4000] loss: 1.933\n",
      "[7,  6000] loss: 1.952\n",
      "[7,  8000] loss: 1.945\n",
      "[7, 10000] loss: 1.950\n",
      "[7, 12000] loss: 1.952\n",
      "[8,  2000] loss: 1.942\n",
      "[8,  4000] loss: 1.952\n",
      "[8,  6000] loss: 1.944\n",
      "[8,  8000] loss: 1.954\n",
      "[8, 10000] loss: 1.937\n",
      "[8, 12000] loss: 1.934\n",
      "[9,  2000] loss: 1.952\n",
      "[9,  4000] loss: 1.935\n",
      "[9,  6000] loss: 1.933\n",
      "[9,  8000] loss: 1.945\n",
      "[9, 10000] loss: 1.932\n",
      "[9, 12000] loss: 1.945\n",
      "[10,  2000] loss: 1.938\n",
      "[10,  4000] loss: 1.933\n",
      "[10,  6000] loss: 1.939\n",
      "[10,  8000] loss: 1.932\n",
      "[10, 10000] loss: 1.933\n",
      "[10, 12000] loss: 1.940\n",
      "Accuracy of the network on the 10000 test images: 25 %\n"
     ]
    }
   ],
   "source": [
    "optimizer = torch.optim.SGD(net.parameters(), lr = 0.0001, momentum = 0)\n",
    "losses_sgd_01 = train()"
   ]
  },
  {
   "cell_type": "code",
   "execution_count": 0,
   "metadata": {
    "colab": {
     "base_uri": "https://localhost:8080/",
     "height": 286
    },
    "colab_type": "code",
    "id": "fq3KdOe2j-g3",
    "outputId": "752940cb-59d3-4df9-8681-0e5682e34d74"
   },
   "outputs": [
    {
     "data": {
      "text/plain": [
       "[<matplotlib.lines.Line2D at 0x7f46c62fed30>]"
      ]
     },
     "execution_count": 15,
     "metadata": {
      "tags": []
     },
     "output_type": "execute_result"
    },
    {
     "data": {
      "image/png": "[encoded data removed]",
      "text/plain": [
       "<Figure size 432x288 with 1 Axes>"
      ]
     },
     "metadata": {
      "tags": []
     },
     "output_type": "display_data"
    }
   ],
   "source": [
    "plt.plot(losses_sgd_01)"
   ]
  },
  {
   "cell_type": "markdown",
   "metadata": {
    "colab_type": "text",
    "id": "Tq6yIabvj-g5"
   },
   "source": [
    "## SGD with momentum"
   ]
  },
  {
   "cell_type": "markdown",
   "metadata": {
    "colab_type": "text",
    "id": "WULFABSEj-g6"
   },
   "source": [
    "SGD has trouble navigating ravines, i.e. areas where the surface curves much more steeply in one dimension than in another, which are common around local optima. In these scenarios, SGD oscillates across the slopes of the ravine while only making hesitant progress along the bottom towards the local optimum.\n",
    "![image.png](attachment:image.png)"
   ]
  },
  {
   "cell_type": "markdown",
   "metadata": {
    "colab_type": "text",
    "id": "7ugs5gWyj-g6"
   },
   "source": [
    "Momentum [5] is a method that helps accelerate SGD in the relevant direction and dampens oscillations as can be seen in Image 3. It does this by adding a fraction γ of the update vector of the past time step to the current update vector:\n",
    "![image.png](attachment:image.png)"
   ]
  },
  {
   "cell_type": "markdown",
   "metadata": {
    "colab_type": "text",
    "id": "WNU3WvDvj-g7"
   },
   "source": [
    "Essentially, when using momentum, we push a ball down a hill. The ball accumulates momentum as it rolls downhill, becoming faster and faster on the way (until it reaches its terminal velocity if there is air resistance, i.e. γ<1). The same thing happens to our parameter updates: The momentum term increases for dimensions whose gradients point in the same directions and reduces updates for dimensions whose gradients change directions. As a result, we gain faster convergence and reduced oscillation."
   ]
  },
  {
   "cell_type": "code",
   "execution_count": 0,
   "metadata": {
    "colab": {
     "base_uri": "https://localhost:8080/",
     "height": 1000
    },
    "colab_type": "code",
    "id": "GTQ_f9lzj-g8",
    "outputId": "70c9e21d-bd04-4057-995f-081295cf0e71",
    "scrolled": true
   },
   "outputs": [
    {
     "name": "stdout",
     "output_type": "stream",
     "text": [
      "[1,  2000] loss: 1.933\n",
      "[1,  4000] loss: 1.917\n",
      "[1,  6000] loss: 1.913\n",
      "[1,  8000] loss: 1.923\n",
      "[1, 10000] loss: 1.920\n",
      "[1, 12000] loss: 1.922\n",
      "[2,  2000] loss: 1.907\n",
      "[2,  4000] loss: 1.903\n",
      "[2,  6000] loss: 1.904\n",
      "[2,  8000] loss: 1.900\n",
      "[2, 10000] loss: 1.902\n",
      "[2, 12000] loss: 1.899\n",
      "[3,  2000] loss: 1.893\n",
      "[3,  4000] loss: 1.886\n",
      "[3,  6000] loss: 1.901\n",
      "[3,  8000] loss: 1.890\n",
      "[3, 10000] loss: 1.879\n",
      "[3, 12000] loss: 1.876\n",
      "[4,  2000] loss: 1.865\n",
      "[4,  4000] loss: 1.866\n",
      "[4,  6000] loss: 1.896\n",
      "[4,  8000] loss: 1.884\n",
      "[4, 10000] loss: 1.884\n",
      "[4, 12000] loss: 1.879\n",
      "[5,  2000] loss: 1.872\n",
      "[5,  4000] loss: 1.882\n",
      "[5,  6000] loss: 1.879\n",
      "[5,  8000] loss: 1.873\n",
      "[5, 10000] loss: 1.869\n",
      "[5, 12000] loss: 1.865\n",
      "[6,  2000] loss: 1.850\n",
      "[6,  4000] loss: 1.872\n",
      "[6,  6000] loss: 1.853\n",
      "[6,  8000] loss: 1.855\n",
      "[6, 10000] loss: 1.874\n",
      "[6, 12000] loss: 1.888\n",
      "[7,  2000] loss: 1.865\n",
      "[7,  4000] loss: 1.858\n",
      "[7,  6000] loss: 1.836\n",
      "[7,  8000] loss: 1.869\n",
      "[7, 10000] loss: 1.861\n",
      "[7, 12000] loss: 1.850\n",
      "[8,  2000] loss: 1.833\n",
      "[8,  4000] loss: 1.851\n",
      "[8,  6000] loss: 1.852\n",
      "[8,  8000] loss: 1.860\n",
      "[8, 10000] loss: 1.856\n",
      "[8, 12000] loss: 1.852\n",
      "[9,  2000] loss: 1.843\n",
      "[9,  4000] loss: 1.850\n",
      "[9,  6000] loss: 1.844\n",
      "[9,  8000] loss: 1.836\n",
      "[9, 10000] loss: 1.840\n",
      "[9, 12000] loss: 1.843\n",
      "[10,  2000] loss: 1.832\n",
      "[10,  4000] loss: 1.843\n",
      "[10,  6000] loss: 1.849\n",
      "[10,  8000] loss: 1.834\n",
      "[10, 10000] loss: 1.838\n",
      "[10, 12000] loss: 1.833\n",
      "Accuracy of the network on the 10000 test images: 29 %\n"
     ]
    }
   ],
   "source": [
    "\n",
    "optimizer = torch.optim.SGD(net.parameters(), lr = 0.0001, momentum = 0.9)\n",
    "losses = train()"
   ]
  },
  {
   "cell_type": "code",
   "execution_count": 0,
   "metadata": {
    "colab": {
     "base_uri": "https://localhost:8080/",
     "height": 286
    },
    "colab_type": "code",
    "id": "O2tPFDCGj-g-",
    "outputId": "7ebce3e5-d113-42f1-86a4-6191cf12d7c5"
   },
   "outputs": [
    {
     "data": {
      "text/plain": [
       "[<matplotlib.lines.Line2D at 0x7f46ca21a2e8>]"
      ]
     },
     "execution_count": 17,
     "metadata": {
      "tags": []
     },
     "output_type": "execute_result"
    },
    {
     "data": {
      "image/png": "[encoded data removed]",
      "text/plain": [
       "<Figure size 432x288 with 1 Axes>"
      ]
     },
     "metadata": {
      "tags": []
     },
     "output_type": "display_data"
    }
   ],
   "source": [
    "plt.plot(losses)"
   ]
  },
  {
   "cell_type": "markdown",
   "metadata": {
    "colab_type": "text",
    "id": "24uN3zkfj-hA"
   },
   "source": [
    "As we can see, the accuracy has improved when we use Momentum rather than using vanilla SGD"
   ]
  },
  {
   "cell_type": "markdown",
   "metadata": {
    "colab_type": "text",
    "id": "V7f1FTaVj-hB"
   },
   "source": [
    "## ADAM"
   ]
  },
  {
   "cell_type": "markdown",
   "metadata": {
    "colab_type": "text",
    "id": "83NAHlKIj-hB"
   },
   "source": [
    "Adaptive Moment Estimation (Adam) is another method that computes adaptive learning rates for each parameter. Whereas momentum can be seen as a ball running down a slope, Adam behaves like a heavy ball with friction, which thus prefers flat minima in the error surface"
   ]
  },
  {
   "cell_type": "code",
   "execution_count": 0,
   "metadata": {
    "colab": {},
    "colab_type": "code",
    "id": "ckCe4uXoj-hC",
    "scrolled": true
   },
   "outputs": [],
   "source": []
  },
  {
   "cell_type": "code",
   "execution_count": 0,
   "metadata": {
    "colab": {},
    "colab_type": "code",
    "id": "ypiZq72Mj-hF"
   },
   "outputs": [],
   "source": []
  },
  {
   "cell_type": "markdown",
   "metadata": {
    "colab_type": "text",
    "id": "5rPfAqZKj-hH"
   },
   "source": [
    "## ADAGRAD "
   ]
  },
  {
   "cell_type": "markdown",
   "metadata": {
    "colab_type": "text",
    "id": "IdSHJxYzj-hJ"
   },
   "source": [
    "Adagrad is an algorithm for gradient-based optimization that adapts the learning rate to the parameters by performing smaller updates (i.e. low learning rates) for parameters associated with frequently occurring features, and larger updates (i.e. high learning rates) for parameters associated with infrequent features. For this reason, it is well-suited for dealing with sparse data."
   ]
  },
  {
   "cell_type": "code",
   "execution_count": 0,
   "metadata": {
    "colab": {},
    "colab_type": "code",
    "id": "RbueQZ-9j-hK",
    "scrolled": true
   },
   "outputs": [],
   "source": [
    "losses_adagrad_0001 = train(optim.Adagrad,0.001)"
   ]
  },
  {
   "cell_type": "code",
   "execution_count": 0,
   "metadata": {
    "colab": {},
    "colab_type": "code",
    "id": "UknSRVu8j-hN"
   },
   "outputs": [],
   "source": []
  },
  {
   "cell_type": "markdown",
   "metadata": {
    "colab_type": "text",
    "id": "BogPOLlij-hR"
   },
   "source": [
    "## RMSprop\n",
    "\n",
    "torch.optim.RMSprop(params, lr=0.01, alpha=0.99, eps=1e-08, weight_decay=0, momentum=0, centered=False)\n",
    "\n",
    "The RMSprop optimizer is similar to the gradient descent algorithm with momentum. The RMSprop optimizer restricts the oscillations in the vertical direction. Therefore, we can increase our learning rate and our algorithm could take larger steps in the horizontal direction converging faster. "
   ]
  },
  {
   "cell_type": "code",
   "execution_count": 0,
   "metadata": {
    "colab": {},
    "colab_type": "code",
    "id": "fmEa7ciuj-hR",
    "scrolled": true
   },
   "outputs": [],
   "source": [
    "#Learning_rate = 0.01\n",
    "#alpha=0.99\n",
    "# eps=1e-08\n",
    "# weight_decay=0\n",
    "# momentum=0.9\n",
    "losses_RMSprop_0001 = train(optim.RMSprop,0.01,0.99,1e-08,0,0.9,False)"
   ]
  },
  {
   "cell_type": "code",
   "execution_count": 0,
   "metadata": {
    "colab": {},
    "colab_type": "code",
    "id": "3SzsFS7qj-hU"
   },
   "outputs": [],
   "source": [
    "plt.plot(losses_RMSprop_0001)"
   ]
  },
  {
   "cell_type": "markdown",
   "metadata": {
    "colab_type": "text",
    "id": "Cx4CFHf1j-hY"
   },
   "source": [
    "### Comparision of all losses:"
   ]
  },
  {
   "cell_type": "code",
   "execution_count": 0,
   "metadata": {
    "colab": {},
    "colab_type": "code",
    "id": "dkmqY6MJj-hZ"
   },
   "outputs": [],
   "source": [
    "plt.plot(losses_sgd_01)\n",
    "plt.plot(losses)\n",
    "plt.plot(losses_adagrad_0001)\n",
    "plt.plot(losses_adam_0001)\n",
    "plt.plot(losses_RMSprop_0001)\n",
    "plt.legend(['SGD without momentum','SGD with momentum','AdaGrad','Adam','RMSProp'],loc='upper right')"
   ]
  },
  {
   "cell_type": "code",
   "execution_count": 0,
   "metadata": {
    "colab": {},
    "colab_type": "code",
    "id": "o4hnPPPOj-hc"
   },
   "outputs": [],
   "source": []
  }
 ],
 "metadata": {
  "accelerator": "GPU",
  "colab": {
   "collapsed_sections": [],
   "name": "Optimizers_Pytorch.ipynb",
   "provenance": [],
   "version": "0.3.2"
  },
  "kernelspec": {
   "display_name": "Python 3",
   "language": "python",
   "name": "python3"
  },
  "language_info": {
   "codemirror_mode": {
    "name": "ipython",
    "version": 3
   },
   "file_extension": ".py",
   "mimetype": "text/x-python",
   "name": "python",
   "nbconvert_exporter": "python",
   "pygments_lexer": "ipython3",
   "version": "3.6.8"
  }
 },
 "nbformat": 4,
 "nbformat_minor": 1
}
