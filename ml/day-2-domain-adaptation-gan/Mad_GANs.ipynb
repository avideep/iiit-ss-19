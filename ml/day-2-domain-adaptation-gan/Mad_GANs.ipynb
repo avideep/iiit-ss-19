{
 "cells": [
  {
   "cell_type": "markdown",
   "metadata": {
    "slideshow": {
     "slide_type": "slide"
    }
   },
   "source": [
    "## MAD GAN"
   ]
  },
  {
   "cell_type": "code",
   "execution_count": 1,
   "metadata": {
    "slideshow": {
     "slide_type": "slide"
    }
   },
   "outputs": [],
   "source": [
    "# Initialization of libraries\n",
    "import torch\n",
    "import torch.nn\n",
    "import torch.nn as nn\n",
    "import torch.autograd as autograd\n",
    "import torch.optim as optim\n",
    "import numpy as np\n",
    "import matplotlib.pyplot as plt\n",
    "import matplotlib.gridspec as gridspec\n",
    "import os\n",
    "from torch.autograd import Variable\n",
    "import torchvision\n",
    "import torchvision.transforms as transforms\n",
    "import random\n",
    "from random import randint\n",
    "from sklearn.mixture import GMM\n",
    "device = torch.device('cuda')\n",
    "%matplotlib inline"
   ]
  },
  {
   "cell_type": "code",
   "execution_count": 2,
   "metadata": {},
   "outputs": [],
   "source": [
    "# defining parameters for the training\n",
    "mb_size = 128 # Batch Size\n",
    "Z_dim = 64  # Length of noise vector\n",
    "X_dim = 1  # Input Length\n",
    "h_dim = 128  # Hidden Dimension\n",
    "lr = 1e-4    # Learning Rate\n",
    "num_gen = 4"
   ]
  },
  {
   "cell_type": "code",
   "execution_count": 3,
   "metadata": {
    "slideshow": {
     "slide_type": "slide"
    }
   },
   "outputs": [
    {
     "name": "stderr",
     "output_type": "stream",
     "text": [
      "/home/shyam.nandan/.local/lib/python2.7/site-packages/sklearn/utils/deprecation.py:58: DeprecationWarning: Class GMM is deprecated; The class GMM is deprecated in 0.18 and will be  removed in 0.20. Use class GaussianMixture instead.\n",
      "  warnings.warn(msg, category=DeprecationWarning)\n"
     ]
    },
    {
     "data": {
      "text/plain": [
       "(array([ 1.,  0.,  0., ...,  0.,  0.,  1.]),\n",
       " array([  0.00000000e+00,   5.00000000e-06,   1.00000000e-05, ...,\n",
       "          9.99990000e-01,   9.99995000e-01,   1.00000000e+00]),\n",
       " <a list of 1 Patch objects>)"
      ]
     },
     "execution_count": 3,
     "metadata": {},
     "output_type": "execute_result"
    },
    {
     "data": {
      "image/png": "[encoded data removed]",
      "text/plain": [
       "<matplotlib.figure.Figure at 0x7fd7cb876c10>"
      ]
     },
     "metadata": {},
     "output_type": "display_data"
    }
   ],
   "source": [
    "np.random.seed(1)\n",
    "gmm = GMM(5)\n",
    "gmm.means_ = np.array([[10], [20], [60], [80], [110]])\n",
    "gmm.covars_ = np.array([[3], [3], [2], [2], [1]]) ** 2\n",
    "gmm.weights_ = np.array([0.2, 0.2, 0.2, 0.2, 0.2])\n",
    "\n",
    "X = gmm.sample(200000)\n",
    "data = X\n",
    "data = (data - X.min())/(X.max()-X.min())\n",
    "plt.hist(data, 200000, normed=False, histtype='stepfilled', alpha=1)"
   ]
  },
  {
   "cell_type": "code",
   "execution_count": 4,
   "metadata": {
    "slideshow": {
     "slide_type": "slide"
    }
   },
   "outputs": [],
   "source": [
    "G = []\n",
    "for i in range(num_gen):\n",
    "    G.append(torch.nn.Sequential(\n",
    "        torch.nn.Linear(Z_dim, h_dim),\n",
    "        torch.nn.PReLU(),\n",
    "        torch.nn.Linear(h_dim, h_dim),\n",
    "        torch.nn.PReLU(),\n",
    "        torch.nn.Linear(h_dim, X_dim),\n",
    "        torch.nn.Sigmoid()\n",
    "    ).cuda())\n",
    "\n",
    "D = torch.nn.Sequential(\n",
    "    torch.nn.Linear(X_dim, h_dim),\n",
    "    torch.nn.LeakyReLU(0.2),\n",
    "    torch.nn.Linear(h_dim, h_dim),\n",
    "    torch.nn.LeakyReLU(0.2),\n",
    "    torch.nn.Linear(h_dim, num_gen + 1),\n",
    "    torch.nn.Softmax()\n",
    ").cuda()"
   ]
  },
  {
   "cell_type": "code",
   "execution_count": 5,
   "metadata": {
    "slideshow": {
     "slide_type": "slide"
    }
   },
   "outputs": [],
   "source": [
    "G_solver = []\n",
    "for i in range(num_gen):\n",
    "    G_solver.append(optim.Adam(G[i].parameters(), lr))\n",
    "D_solver = optim.Adam(D.parameters(), lr)\n",
    "###\n",
    "loss = nn.CrossEntropyLoss()\n",
    "label_G = Variable(torch.LongTensor(mb_size))\n",
    "label_G = label_G.to(device)\n",
    "label_D = Variable(torch.LongTensor(mb_size))\n",
    "label_D = label_D.to(device)"
   ]
  },
  {
   "cell_type": "code",
   "execution_count": 6,
   "metadata": {},
   "outputs": [],
   "source": [
    "# Reset the gradients to zero\n",
    "params = [G[0], G[1], G[2], G[3], D]\n",
    "def reset_grad():\n",
    "    for net in params:\n",
    "        net.zero_grad()\n",
    "reset_grad()"
   ]
  },
  {
   "cell_type": "code",
   "execution_count": 7,
   "metadata": {},
   "outputs": [
    {
     "name": "stderr",
     "output_type": "stream",
     "text": [
      "/home/shyam.nandan/.local/lib/python2.7/site-packages/torch/nn/modules/container.py:91: UserWarning: Implicit dimension choice for softmax has been deprecated. Change the call to include dim=X as an argument.\n",
      "  input = module(input)\n"
     ]
    },
    {
     "name": "stdout",
     "output_type": "stream",
     "text": [
      "Iter-0; D_loss: 12.9841918945; G_loss: 6.5625038147\n",
      "Iter-1000; D_loss: 11.620013237; G_loss: 4.62081956863\n",
      "Iter-2000; D_loss: 12.1049785614; G_loss: 5.07273244858\n",
      "Iter-3000; D_loss: 12.0480041504; G_loss: 4.72685623169\n",
      "Iter-4000; D_loss: 12.3913974762; G_loss: 4.6692442894\n",
      "Iter-5000; D_loss: 12.4863376617; G_loss: 4.66399288177\n",
      "Iter-6000; D_loss: 12.8325176239; G_loss: 4.77811431885\n",
      "Iter-7000; D_loss: 12.4039382935; G_loss: 5.40031528473\n",
      "Iter-8000; D_loss: 12.427230835; G_loss: 5.33937358856\n",
      "Iter-9000; D_loss: 12.3920021057; G_loss: 5.03366661072\n",
      "Iter-10000; D_loss: 11.9586429596; G_loss: 5.74435377121\n",
      "Iter-11000; D_loss: 11.9493455887; G_loss: 5.26605272293\n",
      "Iter-12000; D_loss: 11.7601156235; G_loss: 5.48749637604\n",
      "Iter-13000; D_loss: 12.0403003693; G_loss: 5.64816570282\n",
      "Iter-14000; D_loss: 11.8137254715; G_loss: 5.29893398285\n",
      "Iter-15000; D_loss: 12.6629753113; G_loss: 5.75017023087\n",
      "Iter-16000; D_loss: 11.9304962158; G_loss: 5.51840591431\n",
      "Iter-17000; D_loss: 12.0984783173; G_loss: 5.5077662468\n",
      "Iter-18000; D_loss: 11.9318752289; G_loss: 5.6388759613\n",
      "Iter-19000; D_loss: 11.9612932205; G_loss: 4.90775871277\n",
      "Iter-20000; D_loss: 12.4146261215; G_loss: 4.96739339828\n",
      "Iter-21000; D_loss: 11.9312572479; G_loss: 5.50056362152\n",
      "Iter-22000; D_loss: 11.9106502533; G_loss: 5.31891202927\n",
      "Iter-23000; D_loss: 11.9453868866; G_loss: 5.69786739349\n",
      "Iter-24000; D_loss: 12.4179496765; G_loss: 5.69813251495\n",
      "Iter-25000; D_loss: 13.0386018753; G_loss: 5.14421606064\n",
      "Iter-26000; D_loss: 12.2383232117; G_loss: 5.13093233109\n",
      "Iter-27000; D_loss: 11.7196092606; G_loss: 5.68870258331\n",
      "Iter-28000; D_loss: 12.7733383179; G_loss: 5.05622529984\n",
      "Iter-29000; D_loss: 12.3986949921; G_loss: 5.14705228806\n",
      "Iter-30000; D_loss: 12.2721004486; G_loss: 5.80196475983\n",
      "Iter-31000; D_loss: 12.3561782837; G_loss: 6.08796596527\n",
      "Iter-32000; D_loss: 11.8723297119; G_loss: 5.16943693161\n",
      "Iter-33000; D_loss: 12.272441864; G_loss: 5.01013660431\n",
      "Iter-34000; D_loss: 12.3445167542; G_loss: 4.82600975037\n",
      "Iter-35000; D_loss: 12.173535347; G_loss: 5.61934232712\n",
      "Iter-36000; D_loss: 11.8151063919; G_loss: 5.00748729706\n",
      "Iter-37000; D_loss: 12.2789869308; G_loss: 5.84407234192\n",
      "Iter-38000; D_loss: 12.8846645355; G_loss: 5.03848028183\n",
      "Iter-39000; D_loss: 12.2695436478; G_loss: 5.6566195488\n",
      "Iter-40000; D_loss: 12.1018753052; G_loss: 5.783411026\n",
      "Iter-41000; D_loss: 11.7960443497; G_loss: 4.96220874786\n",
      "Iter-42000; D_loss: 12.2690372467; G_loss: 4.83959913254\n",
      "Iter-43000; D_loss: 12.1406421661; G_loss: 5.31281852722\n",
      "Iter-44000; D_loss: 11.5868415833; G_loss: 5.34151983261\n",
      "Iter-45000; D_loss: 11.5555915833; G_loss: 5.95240306854\n",
      "Iter-46000; D_loss: 12.8590965271; G_loss: 5.63053178787\n",
      "Iter-47000; D_loss: 12.9129943848; G_loss: 5.42990875244\n",
      "Iter-48000; D_loss: 11.4021034241; G_loss: 5.34070014954\n",
      "Iter-49000; D_loss: 11.4946527481; G_loss: 5.24291849136\n",
      "Iter-50000; D_loss: 12.3698234558; G_loss: 5.37628269196\n",
      "Iter-51000; D_loss: 11.3166465759; G_loss: 5.08683300018\n",
      "Iter-52000; D_loss: 12.3505764008; G_loss: 5.25663375854\n",
      "Iter-53000; D_loss: 12.3766546249; G_loss: 5.16218471527\n",
      "Iter-54000; D_loss: 12.1594848633; G_loss: 5.03799819946\n",
      "Iter-55000; D_loss: 12.6857662201; G_loss: 5.28383016586\n",
      "Iter-56000; D_loss: 12.2540941238; G_loss: 5.30371761322\n",
      "Iter-57000; D_loss: 12.3285999298; G_loss: 5.0651140213\n",
      "Iter-58000; D_loss: 12.1950263977; G_loss: 5.63712215424\n",
      "Iter-59000; D_loss: 11.4857311249; G_loss: 5.02403831482\n",
      "Iter-60000; D_loss: 11.5564498901; G_loss: 5.88292789459\n",
      "Iter-61000; D_loss: 11.8404769897; G_loss: 5.77903556824\n",
      "Iter-62000; D_loss: 11.9168395996; G_loss: 5.2674665451\n",
      "Iter-63000; D_loss: 12.7346420288; G_loss: 5.87142562866\n",
      "Iter-64000; D_loss: 12.2360315323; G_loss: 5.25268650055\n",
      "Iter-65000; D_loss: 12.133687973; G_loss: 5.35114097595\n",
      "Iter-66000; D_loss: 13.0040225983; G_loss: 5.4751996994\n",
      "Iter-67000; D_loss: 11.8534040451; G_loss: 5.9713511467\n",
      "Iter-68000; D_loss: 12.7602291107; G_loss: 5.93580150604\n",
      "Iter-69000; D_loss: 12.5427865982; G_loss: 5.82768154144\n",
      "Iter-70000; D_loss: 13.6069574356; G_loss: 5.34515380859\n",
      "Iter-71000; D_loss: 12.2679653168; G_loss: 5.67849683762\n",
      "Iter-72000; D_loss: 11.9985284805; G_loss: 5.93849277496\n",
      "Iter-73000; D_loss: 11.3214168549; G_loss: 6.25933074951\n",
      "Iter-74000; D_loss: 11.3714122772; G_loss: 5.5640206337\n",
      "Iter-75000; D_loss: 12.3809452057; G_loss: 5.62827968597\n",
      "Iter-76000; D_loss: 11.5004644394; G_loss: 5.61817550659\n",
      "Iter-77000; D_loss: 11.7863759995; G_loss: 6.01780319214\n",
      "Iter-78000; D_loss: 12.872303009; G_loss: 5.70485925674\n",
      "Iter-79000; D_loss: 12.3923330307; G_loss: 6.08763837814\n",
      "Iter-80000; D_loss: 12.4734477997; G_loss: 5.24104452133\n",
      "Iter-81000; D_loss: 12.2710981369; G_loss: 5.08547258377\n",
      "Iter-82000; D_loss: 13.7617073059; G_loss: 4.98521614075\n",
      "Iter-83000; D_loss: 11.6990709305; G_loss: 5.19766902924\n",
      "Iter-84000; D_loss: 12.2175626755; G_loss: 5.9365477562\n",
      "Iter-85000; D_loss: 12.1465473175; G_loss: 5.43670988083\n",
      "Iter-86000; D_loss: 12.2994747162; G_loss: 5.55927181244\n",
      "Iter-87000; D_loss: 12.484960556; G_loss: 5.644759655\n",
      "Iter-88000; D_loss: 12.4170675278; G_loss: 5.84358644485\n",
      "Iter-89000; D_loss: 11.918586731; G_loss: 5.41048049927\n",
      "Iter-90000; D_loss: 12.1752376556; G_loss: 5.23731899261\n",
      "Iter-91000; D_loss: 12.3376235962; G_loss: 5.29122066498\n",
      "Iter-92000; D_loss: 11.9669933319; G_loss: 5.18890094757\n",
      "Iter-93000; D_loss: 11.8664636612; G_loss: 5.15213680267\n",
      "Iter-94000; D_loss: 11.4410839081; G_loss: 5.51274108887\n",
      "Iter-95000; D_loss: 12.6427545547; G_loss: 5.64165306091\n",
      "Iter-96000; D_loss: 11.9393043518; G_loss: 5.45969152451\n",
      "Iter-97000; D_loss: 11.9993801117; G_loss: 5.40337896347\n",
      "Iter-98000; D_loss: 12.3905076981; G_loss: 5.00089073181\n",
      "Iter-99000; D_loss: 11.7580928802; G_loss: 5.12264966965\n",
      "Iter-100000; D_loss: 12.3869285583; G_loss: 5.15833520889\n",
      "Iter-101000; D_loss: 12.4365730286; G_loss: 5.2193775177\n",
      "Iter-102000; D_loss: 12.956817627; G_loss: 5.3422832489\n",
      "Iter-103000; D_loss: 11.8482189178; G_loss: 5.50863027573\n",
      "Iter-104000; D_loss: 11.7800588608; G_loss: 5.81364393234\n",
      "Iter-105000; D_loss: 12.2422456741; G_loss: 4.99626350403\n",
      "Iter-106000; D_loss: 12.786611557; G_loss: 5.58530044556\n",
      "Iter-107000; D_loss: 12.3198795319; G_loss: 5.87275075912\n",
      "Iter-108000; D_loss: 11.4958744049; G_loss: 5.03960704803\n",
      "Iter-109000; D_loss: 13.3199701309; G_loss: 5.14735746384\n",
      "Iter-110000; D_loss: 11.8069171906; G_loss: 5.00280284882\n",
      "Iter-111000; D_loss: 12.3672761917; G_loss: 6.06817436218\n",
      "Iter-112000; D_loss: 11.5512590408; G_loss: 5.38173866272\n",
      "Iter-113000; D_loss: 12.3137893677; G_loss: 5.30890464783\n",
      "Iter-114000; D_loss: 12.8298072815; G_loss: 5.3842010498\n",
      "Iter-115000; D_loss: 12.2919883728; G_loss: 5.37341833115\n",
      "Iter-116000; D_loss: 11.8357105255; G_loss: 5.37934827805\n",
      "Iter-117000; D_loss: 11.4635944366; G_loss: 5.55264806747\n",
      "Iter-118000; D_loss: 12.2598209381; G_loss: 5.2120552063\n",
      "Iter-119000; D_loss: 11.8822078705; G_loss: 5.28647994995\n",
      "Iter-120000; D_loss: 11.8883399963; G_loss: 5.66245412827\n",
      "Iter-121000; D_loss: 12.3774776459; G_loss: 5.10901260376\n",
      "Iter-122000; D_loss: 11.4468650818; G_loss: 5.62456989288\n",
      "Iter-123000; D_loss: 12.7100191116; G_loss: 5.27089118958\n",
      "Iter-124000; D_loss: 12.5740718842; G_loss: 5.41312074661\n",
      "Iter-125000; D_loss: 11.8878755569; G_loss: 5.67394924164\n",
      "Iter-126000; D_loss: 12.823802948; G_loss: 6.06633663177\n",
      "Iter-127000; D_loss: 12.2108745575; G_loss: 6.13121891022\n",
      "Iter-128000; D_loss: 12.6868143082; G_loss: 5.14831066132\n",
      "Iter-129000; D_loss: 12.3678913116; G_loss: 5.02747392654\n",
      "Iter-130000; D_loss: 12.3623752594; G_loss: 5.37217330933\n",
      "Iter-131000; D_loss: 11.8626995087; G_loss: 4.61447238922\n",
      "Iter-132000; D_loss: 12.763999939; G_loss: 5.20900011063\n",
      "Iter-133000; D_loss: 11.4688634872; G_loss: 5.25117206573\n",
      "Iter-134000; D_loss: 12.752368927; G_loss: 5.33188343048\n",
      "Iter-135000; D_loss: 12.254535675; G_loss: 5.41830825806\n",
      "Iter-136000; D_loss: 11.8485469818; G_loss: 5.42977762222\n",
      "Iter-137000; D_loss: 12.3968820572; G_loss: 5.69060373306\n",
      "Iter-138000; D_loss: 11.817035675; G_loss: 5.18135166168\n",
      "Iter-139000; D_loss: 11.5074977875; G_loss: 5.12516117096\n",
      "Iter-140000; D_loss: 11.9105024338; G_loss: 5.35024738312\n",
      "Iter-141000; D_loss: 12.4200344086; G_loss: 5.88330030441\n",
      "Iter-142000; D_loss: 11.9385795593; G_loss: 5.67284154892\n",
      "Iter-143000; D_loss: 12.4377098083; G_loss: 5.91783332825\n"
     ]
    },
    {
     "name": "stdout",
     "output_type": "stream",
     "text": [
      "Iter-144000; D_loss: 11.8751077652; G_loss: 5.21694421768\n",
      "Iter-145000; D_loss: 12.2212028503; G_loss: 5.18990898132\n",
      "Iter-146000; D_loss: 12.7875299454; G_loss: 5.65146493912\n",
      "Iter-147000; D_loss: 12.1440553665; G_loss: 5.71858596802\n",
      "Iter-148000; D_loss: 12.7683753967; G_loss: 5.56398439407\n",
      "Iter-149000; D_loss: 11.9209957123; G_loss: 5.28400421143\n",
      "Iter-150000; D_loss: 12.2146873474; G_loss: 5.35271167755\n",
      "Iter-151000; D_loss: 11.8250980377; G_loss: 5.16409873962\n",
      "Iter-152000; D_loss: 11.8266620636; G_loss: 5.45387029648\n",
      "Iter-153000; D_loss: 12.2501134872; G_loss: 4.98568868637\n",
      "Iter-154000; D_loss: 12.2260112762; G_loss: 5.1959271431\n",
      "Iter-155000; D_loss: 12.3000488281; G_loss: 5.50676441193\n",
      "Iter-156000; D_loss: 12.2422523499; G_loss: 5.32122325897\n",
      "Iter-157000; D_loss: 12.8856134415; G_loss: 5.37763023376\n",
      "Iter-158000; D_loss: 12.4171857834; G_loss: 5.70684957504\n",
      "Iter-159000; D_loss: 11.3545064926; G_loss: 6.29471683502\n",
      "Iter-160000; D_loss: 11.5770978928; G_loss: 5.24786806107\n",
      "Iter-161000; D_loss: 12.112865448; G_loss: 5.26614189148\n",
      "Iter-162000; D_loss: 11.7781677246; G_loss: 5.64993572235\n",
      "Iter-163000; D_loss: 11.7112588882; G_loss: 4.88926076889\n",
      "Iter-164000; D_loss: 11.5625; G_loss: 5.53114032745\n",
      "Iter-165000; D_loss: 11.4389629364; G_loss: 5.55595684052\n",
      "Iter-166000; D_loss: 13.56798172; G_loss: 4.90027141571\n",
      "Iter-167000; D_loss: 11.9579524994; G_loss: 5.31078243256\n",
      "Iter-168000; D_loss: 12.2703800201; G_loss: 5.4838809967\n",
      "Iter-169000; D_loss: 12.2591838837; G_loss: 5.69497394562\n",
      "Iter-170000; D_loss: 11.9224243164; G_loss: 5.67593955994\n",
      "Iter-171000; D_loss: 12.2289142609; G_loss: 6.00999498367\n",
      "Iter-172000; D_loss: 12.7088432312; G_loss: 6.18654632568\n",
      "Iter-173000; D_loss: 12.0047607422; G_loss: 5.19224739075\n",
      "Iter-174000; D_loss: 11.5603656769; G_loss: 5.7951836586\n",
      "Iter-175000; D_loss: 11.6382017136; G_loss: 5.56179428101\n",
      "Iter-176000; D_loss: 12.0824270248; G_loss: 5.69822406769\n",
      "Iter-177000; D_loss: 12.1809864044; G_loss: 5.55418395996\n",
      "Iter-178000; D_loss: 12.3042182922; G_loss: 5.405564785\n",
      "Iter-179000; D_loss: 12.6153736115; G_loss: 5.67615556717\n",
      "Iter-180000; D_loss: 12.2610616684; G_loss: 5.51604986191\n",
      "Iter-181000; D_loss: 11.2662248611; G_loss: 5.99602174759\n",
      "Iter-182000; D_loss: 11.6062784195; G_loss: 5.65746831894\n",
      "Iter-183000; D_loss: 11.8196372986; G_loss: 5.08940076828\n",
      "Iter-184000; D_loss: 11.8697280884; G_loss: 5.21267843246\n",
      "Iter-185000; D_loss: 12.2623138428; G_loss: 4.99396133423\n",
      "Iter-186000; D_loss: 12.3420448303; G_loss: 5.08750963211\n",
      "Iter-187000; D_loss: 12.0709466934; G_loss: 5.80408716202\n",
      "Iter-188000; D_loss: 11.4356775284; G_loss: 5.063393116\n",
      "Iter-189000; D_loss: 12.2491388321; G_loss: 5.32337999344\n",
      "Iter-190000; D_loss: 12.6663169861; G_loss: 5.76847362518\n",
      "Iter-191000; D_loss: 11.7880535126; G_loss: 5.93991184235\n",
      "Iter-192000; D_loss: 11.3564510345; G_loss: 5.96325063705\n",
      "Iter-193000; D_loss: 12.1014642715; G_loss: 6.33293914795\n",
      "Iter-194000; D_loss: 11.76030159; G_loss: 6.02607250214\n",
      "Iter-195000; D_loss: 12.7002105713; G_loss: 5.15007734299\n",
      "Iter-196000; D_loss: 11.4569740295; G_loss: 5.41778469086\n",
      "Iter-197000; D_loss: 11.7580223083; G_loss: 5.53513813019\n"
     ]
    }
   ],
   "source": [
    "data_index = 0\n",
    "for it in range(198000):\n",
    "    if ((data_index + 1)*mb_size>len(data)):\n",
    "        data_index = 0\n",
    "\n",
    "    X = torch.from_numpy(np.array(data[data_index*mb_size : (data_index + 1)*mb_size]))\n",
    "    X = X.view(mb_size, 1)\n",
    "    X = X.type(torch.FloatTensor)\n",
    "    X = X.to(device)\n",
    "    Total_D_loss = 0\n",
    "    for i in range(num_gen):\n",
    "        # Dicriminator forward-loss-backward-update\n",
    "        #forward pass\n",
    "        z = torch.FloatTensor(mb_size, Z_dim).uniform_(-1, 1)\n",
    "        z = z.to(device)\n",
    "        G_sample = G[i](z)\n",
    "        D_real = D(X)\n",
    "        D_fake = D(G_sample)\n",
    "        # Calculate the loss\n",
    "        D_loss_real = loss(D_real,label_D.fill_(num_gen + 0.1*randint(-1,1)))\n",
    "        D_loss_fake = loss(D_fake, label_G.fill_(i + 0.1*randint(-1,1)))\n",
    "        D_loss = D_loss_real + D_loss_fake\n",
    "        Total_D_loss = D_loss + Total_D_loss\n",
    "        # Calulate and update gradients of discriminator\n",
    "        D_loss.backward()\n",
    "        D_solver.step()\n",
    "\n",
    "        # reset gradient\n",
    "        reset_grad()\n",
    "\n",
    "    # Generator forward-loss-backward-update\n",
    "    \n",
    "    Total_G_loss = 0\n",
    "    for i in range(num_gen):\n",
    "        \n",
    "        z = torch.FloatTensor(mb_size, Z_dim).uniform_(-1, 1)\n",
    "        z = z.to(device)\n",
    "        G_sample = G[i](z)\n",
    "        D_fake = D(G_sample)\n",
    "\n",
    "        G_loss = loss(D_fake, label_D.fill_(num_gen + 0.1*randint(-1,1)))\n",
    "        Total_G_loss = G_loss + Total_G_loss\n",
    "        G_loss.backward()\n",
    "        G_solver[i].step()\n",
    "\n",
    "        # reset gradient\n",
    "        reset_grad()\n",
    "        \n",
    "    data_index = data_index + 1\n",
    "    # Print and plot every now and then\n",
    "    if it % 1000 == 0:\n",
    "        print('Iter-{}; D_loss: {}; G_loss: {}'.format(it, Total_D_loss.data.cpu().numpy(), Total_G_loss.data.cpu().numpy()))"
   ]
  },
  {
   "cell_type": "code",
   "execution_count": 11,
   "metadata": {},
   "outputs": [
    {
     "data": {
      "image/png": "[encoded data removed]",
      "text/plain": [
       "<matplotlib.figure.Figure at 0x7fd7cb876490>"
      ]
     },
     "metadata": {},
     "output_type": "display_data"
    }
   ],
   "source": [
    "import numpy as np\n",
    "final = np.zeros(1500*mb_size, dtype = float)\n",
    "for i in range(1500):\n",
    "    z = torch.FloatTensor(64, Z_dim).uniform_(-1, 1)\n",
    "    z = z.to(device)\n",
    "    l = G[randint(0,num_gen-1)](z).cpu().detach().numpy()\n",
    "    final[i*mb_size : ((i+ 1)*mb_size -1)] = l[0]\n",
    "p1 = plt.hist(final, 200, normed=True, histtype='bar', alpha=0.5)\n",
    "p2 = plt.hist(data, 200, normed=True, histtype='bar', alpha=0.5)"
   ]
  },
  {
   "cell_type": "markdown",
   "metadata": {},
   "source": [
    "## Points to ponder\n",
    "1. What happens if we reduce the number of generator?\n",
    "2. What happens if we change the learning rate and other parameters?\n",
    "3. What happens if we change the noise distribution?"
   ]
  }
 ],
 "metadata": {
  "celltoolbar": "Slideshow",
  "kernelspec": {
   "display_name": "Python 2",
   "language": "python",
   "name": "python2"
  },
  "language_info": {
   "codemirror_mode": {
    "name": "ipython",
    "version": 2
   },
   "file_extension": ".py",
   "mimetype": "text/x-python",
   "name": "python",
   "nbconvert_exporter": "python",
   "pygments_lexer": "ipython2",
   "version": "2.7.12"
  }
 },
 "nbformat": 4,
 "nbformat_minor": 2
}
